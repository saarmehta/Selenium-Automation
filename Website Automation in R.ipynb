{
 "cells": [
  {
   "cell_type": "markdown",
   "metadata": {},
   "source": []
  },
  {
   "cell_type": "code",
   "execution_count": 2,
   "metadata": {},
   "outputs": [
    {
     "name": "stderr",
     "output_type": "stream",
     "text": [
      "Warning message:\n",
      "\"package 'RSelenium' was built under R version 3.4.4\""
     ]
    },
    {
     "ename": "ERROR",
     "evalue": "Error: startServer is now defunct. Users in future can find the function in\n    file.path(find.package(\"RSelenium\"), \"examples/serverUtils\"). The\n    recommended way to run a selenium server is via Docker. Alternatively\n    see the RSelenium::rsDriver function.\n",
     "output_type": "error",
     "traceback": [
      "Error: startServer is now defunct. Users in future can find the function in\n    file.path(find.package(\"RSelenium\"), \"examples/serverUtils\"). The\n    recommended way to run a selenium server is via Docker. Alternatively\n    see the RSelenium::rsDriver function.\nTraceback:\n",
      "1. startServer()",
      "2. .Defunct(new = rsDriver, package = \"RSelenium\", msg = \"startServer is now defunct. Users in future can find the function in\\n    file.path(find.package(\\\"RSelenium\\\"), \\\"examples/serverUtils\\\"). The\\n    recommended way to run a selenium server is via Docker. Alternatively\\n    see the RSelenium::rsDriver function.\")",
      "3. stop(paste(msg, collapse = \"\"), call. = FALSE, domain = NA)"
     ]
    }
   ],
   "source": [
    "library(\"RSelenium\")\n",
    "startServer()\n",
    "mybrowser <- remoteDriver()\n",
    "mybrowser$open()\n",
    "mybrowser$navigate(\"http://www.weather.gov\")\n",
    "mybrowser$findElement(using = 'css selector', \"#inputstring\")\n",
    "wxbox <- mybrowser$findElement(using = 'css selector', \"#inputstring\")\n",
    "wxbox$sendKeysToElement(list(\"01701\"))\n",
    "wxbutton <- mybrowser$findElement(using = 'css selector', \"#btnSearch\")\n",
    "wxbutton$clickElement()\n",
    "mybrowser$goBack()\n",
    "wxbox <- mybrowser$findElement(using = 'css selector', \"#inputstring\")\n",
    "wxbox$sendKeysToElement(list(\"01701\", \"\\uE007\"))"
   ]
  }
 ],
 "metadata": {
  "kernelspec": {
   "display_name": "R",
   "language": "R",
   "name": "ir"
  },
  "language_info": {
   "codemirror_mode": "r",
   "file_extension": ".r",
   "mimetype": "text/x-r-source",
   "name": "R",
   "pygments_lexer": "r",
   "version": "3.4.1"
  }
 },
 "nbformat": 4,
 "nbformat_minor": 2
}
